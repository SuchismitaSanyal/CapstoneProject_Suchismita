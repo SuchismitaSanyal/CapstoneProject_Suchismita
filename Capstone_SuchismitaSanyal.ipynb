{
 "cells": [
  {
   "cell_type": "code",
   "execution_count": 1,
   "id": "c38ffff9",
   "metadata": {},
   "outputs": [],
   "source": [
    "# Import our libraries we are going to use for our data analysis.\n",
    "\n",
    "import pandas as pd\n",
    "import seaborn as sns\n",
    "import numpy as np\n",
    "import matplotlib.pyplot as plt\n",
    "\n",
    "# Libraries for random tree classifier\n",
    "from sklearn.ensemble import RandomForestClassifier\n",
    "from sklearn.tree import plot_tree\n",
    "from sklearn.model_selection import train_test_split\n",
    "import warnings\n",
    "warnings.filterwarnings('ignore')\n",
    "\n",
    "from sklearn import metrics\n",
    "from sklearn.metrics import confusion_matrix, precision_score, recall_score, accuracy_score,ConfusionMatrixDisplay,classification_report"
   ]
  },
  {
   "cell_type": "code",
   "execution_count": 2,
   "id": "a690d348",
   "metadata": {},
   "outputs": [],
   "source": [
    "# Import data\n",
    "\n",
    "df = pd.read_csv(\"D:/Tina/BerkleyML/Capstone/loan_test/loan_test.csv\",low_memory=False,index_col=0)"
   ]
  },
  {
   "cell_type": "code",
   "execution_count": 3,
   "id": "eab904b1",
   "metadata": {},
   "outputs": [
    {
     "data": {
      "text/html": [
       "<div>\n",
       "<style scoped>\n",
       "    .dataframe tbody tr th:only-of-type {\n",
       "        vertical-align: middle;\n",
       "    }\n",
       "\n",
       "    .dataframe tbody tr th {\n",
       "        vertical-align: top;\n",
       "    }\n",
       "\n",
       "    .dataframe thead th {\n",
       "        text-align: right;\n",
       "    }\n",
       "</style>\n",
       "<table border=\"1\" class=\"dataframe\">\n",
       "  <thead>\n",
       "    <tr style=\"text-align: right;\">\n",
       "      <th></th>\n",
       "      <th>loan_amount</th>\n",
       "      <th>funded_amount</th>\n",
       "      <th>investor_funds</th>\n",
       "      <th>term</th>\n",
       "      <th>interest_rate</th>\n",
       "      <th>installment</th>\n",
       "      <th>grade</th>\n",
       "      <th>sub_grade</th>\n",
       "      <th>emp_length</th>\n",
       "      <th>home_ownership</th>\n",
       "      <th>...</th>\n",
       "      <th>application_type</th>\n",
       "      <th>acc_now_delinq</th>\n",
       "      <th>year</th>\n",
       "      <th>loan_condition</th>\n",
       "      <th>region</th>\n",
       "      <th>complete_date</th>\n",
       "      <th>emp_length_int</th>\n",
       "      <th>income_category</th>\n",
       "      <th>loan_condition_int</th>\n",
       "      <th>interest_payments</th>\n",
       "    </tr>\n",
       "  </thead>\n",
       "  <tbody>\n",
       "    <tr>\n",
       "      <th>0</th>\n",
       "      <td>5000</td>\n",
       "      <td>5000</td>\n",
       "      <td>4975.0</td>\n",
       "      <td>36 months</td>\n",
       "      <td>10.65</td>\n",
       "      <td>162.87</td>\n",
       "      <td>B</td>\n",
       "      <td>B2</td>\n",
       "      <td>10+ years</td>\n",
       "      <td>RENT</td>\n",
       "      <td>...</td>\n",
       "      <td>INDIVIDUAL</td>\n",
       "      <td>0.0</td>\n",
       "      <td>2011</td>\n",
       "      <td>Good Loan</td>\n",
       "      <td>munster</td>\n",
       "      <td>01/12/2011</td>\n",
       "      <td>10.0</td>\n",
       "      <td>Low</td>\n",
       "      <td>0</td>\n",
       "      <td>Low</td>\n",
       "    </tr>\n",
       "    <tr>\n",
       "      <th>1</th>\n",
       "      <td>2500</td>\n",
       "      <td>2500</td>\n",
       "      <td>2500.0</td>\n",
       "      <td>60 months</td>\n",
       "      <td>15.27</td>\n",
       "      <td>59.83</td>\n",
       "      <td>C</td>\n",
       "      <td>C4</td>\n",
       "      <td>&lt; 1 year</td>\n",
       "      <td>RENT</td>\n",
       "      <td>...</td>\n",
       "      <td>INDIVIDUAL</td>\n",
       "      <td>0.0</td>\n",
       "      <td>2011</td>\n",
       "      <td>Bad Loan</td>\n",
       "      <td>leinster</td>\n",
       "      <td>01/12/2011</td>\n",
       "      <td>0.5</td>\n",
       "      <td>Low</td>\n",
       "      <td>1</td>\n",
       "      <td>High</td>\n",
       "    </tr>\n",
       "    <tr>\n",
       "      <th>2</th>\n",
       "      <td>2400</td>\n",
       "      <td>2400</td>\n",
       "      <td>2400.0</td>\n",
       "      <td>36 months</td>\n",
       "      <td>15.96</td>\n",
       "      <td>84.33</td>\n",
       "      <td>C</td>\n",
       "      <td>C5</td>\n",
       "      <td>10+ years</td>\n",
       "      <td>RENT</td>\n",
       "      <td>...</td>\n",
       "      <td>INDIVIDUAL</td>\n",
       "      <td>0.0</td>\n",
       "      <td>2011</td>\n",
       "      <td>Good Loan</td>\n",
       "      <td>cannught</td>\n",
       "      <td>01/12/2011</td>\n",
       "      <td>10.0</td>\n",
       "      <td>Low</td>\n",
       "      <td>0</td>\n",
       "      <td>High</td>\n",
       "    </tr>\n",
       "    <tr>\n",
       "      <th>3</th>\n",
       "      <td>10000</td>\n",
       "      <td>10000</td>\n",
       "      <td>10000.0</td>\n",
       "      <td>36 months</td>\n",
       "      <td>13.49</td>\n",
       "      <td>339.31</td>\n",
       "      <td>C</td>\n",
       "      <td>C1</td>\n",
       "      <td>10+ years</td>\n",
       "      <td>RENT</td>\n",
       "      <td>...</td>\n",
       "      <td>INDIVIDUAL</td>\n",
       "      <td>0.0</td>\n",
       "      <td>2011</td>\n",
       "      <td>Good Loan</td>\n",
       "      <td>ulster</td>\n",
       "      <td>01/12/2011</td>\n",
       "      <td>10.0</td>\n",
       "      <td>Low</td>\n",
       "      <td>0</td>\n",
       "      <td>High</td>\n",
       "    </tr>\n",
       "    <tr>\n",
       "      <th>4</th>\n",
       "      <td>3000</td>\n",
       "      <td>3000</td>\n",
       "      <td>3000.0</td>\n",
       "      <td>60 months</td>\n",
       "      <td>12.69</td>\n",
       "      <td>67.79</td>\n",
       "      <td>B</td>\n",
       "      <td>B5</td>\n",
       "      <td>1 year</td>\n",
       "      <td>RENT</td>\n",
       "      <td>...</td>\n",
       "      <td>INDIVIDUAL</td>\n",
       "      <td>0.0</td>\n",
       "      <td>2011</td>\n",
       "      <td>Good Loan</td>\n",
       "      <td>ulster</td>\n",
       "      <td>01/12/2011</td>\n",
       "      <td>1.0</td>\n",
       "      <td>Low</td>\n",
       "      <td>0</td>\n",
       "      <td>Low</td>\n",
       "    </tr>\n",
       "  </tbody>\n",
       "</table>\n",
       "<p>5 rows × 55 columns</p>\n",
       "</div>"
      ],
      "text/plain": [
       "   loan_amount  funded_amount  investor_funds        term  interest_rate  \\\n",
       "0         5000           5000          4975.0   36 months          10.65   \n",
       "1         2500           2500          2500.0   60 months          15.27   \n",
       "2         2400           2400          2400.0   36 months          15.96   \n",
       "3        10000          10000         10000.0   36 months          13.49   \n",
       "4         3000           3000          3000.0   60 months          12.69   \n",
       "\n",
       "   installment grade sub_grade emp_length home_ownership  ...  \\\n",
       "0       162.87     B        B2  10+ years           RENT  ...   \n",
       "1        59.83     C        C4   < 1 year           RENT  ...   \n",
       "2        84.33     C        C5  10+ years           RENT  ...   \n",
       "3       339.31     C        C1  10+ years           RENT  ...   \n",
       "4        67.79     B        B5     1 year           RENT  ...   \n",
       "\n",
       "   application_type acc_now_delinq  year loan_condition    region  \\\n",
       "0        INDIVIDUAL            0.0  2011      Good Loan   munster   \n",
       "1        INDIVIDUAL            0.0  2011       Bad Loan  leinster   \n",
       "2        INDIVIDUAL            0.0  2011      Good Loan  cannught   \n",
       "3        INDIVIDUAL            0.0  2011      Good Loan    ulster   \n",
       "4        INDIVIDUAL            0.0  2011      Good Loan    ulster   \n",
       "\n",
       "  complete_date emp_length_int  income_category  loan_condition_int  \\\n",
       "0    01/12/2011           10.0              Low                   0   \n",
       "1    01/12/2011            0.5              Low                   1   \n",
       "2    01/12/2011           10.0              Low                   0   \n",
       "3    01/12/2011           10.0              Low                   0   \n",
       "4    01/12/2011            1.0              Low                   0   \n",
       "\n",
       "  interest_payments  \n",
       "0               Low  \n",
       "1              High  \n",
       "2              High  \n",
       "3              High  \n",
       "4               Low  \n",
       "\n",
       "[5 rows x 55 columns]"
      ]
     },
     "execution_count": 3,
     "metadata": {},
     "output_type": "execute_result"
    }
   ],
   "source": [
    "df.head()"
   ]
  },
  {
   "cell_type": "code",
   "execution_count": 4,
   "id": "33432581",
   "metadata": {},
   "outputs": [
    {
     "name": "stdout",
     "output_type": "stream",
     "text": [
      "<class 'pandas.core.frame.DataFrame'>\n",
      "Int64Index: 887379 entries, 0 to 887378\n",
      "Data columns (total 55 columns):\n",
      " #   Column                      Non-Null Count   Dtype  \n",
      "---  ------                      --------------   -----  \n",
      " 0   loan_amount                 887379 non-null  int64  \n",
      " 1   funded_amount               887379 non-null  int64  \n",
      " 2   investor_funds              887379 non-null  float64\n",
      " 3   term                        887379 non-null  object \n",
      " 4   interest_rate               887379 non-null  float64\n",
      " 5   installment                 887379 non-null  float64\n",
      " 6   grade                       887379 non-null  object \n",
      " 7   sub_grade                   887379 non-null  object \n",
      " 8   emp_length                  842554 non-null  object \n",
      " 9   home_ownership              887379 non-null  object \n",
      " 10  annual_income               887375 non-null  float64\n",
      " 11  verification_status         887379 non-null  object \n",
      " 12  issue_d                     887379 non-null  object \n",
      " 13  loan_status                 887379 non-null  object \n",
      " 14  pymnt_plan                  887379 non-null  object \n",
      " 15  purpose                     887379 non-null  object \n",
      " 16  addr_state                  887379 non-null  object \n",
      " 17  dti                         887379 non-null  float64\n",
      " 18  delinq_2yrs                 887350 non-null  float64\n",
      " 19  earliest_cr_line            887350 non-null  object \n",
      " 20  inq_last_6mths              887350 non-null  float64\n",
      " 21  mths_since_last_delinq      433067 non-null  float64\n",
      " 22  mths_since_last_record      137053 non-null  float64\n",
      " 23  open_acc                    887350 non-null  float64\n",
      " 24  pub_rec                     887350 non-null  float64\n",
      " 25  revol_bal                   887379 non-null  int64  \n",
      " 26  revol_util                  886877 non-null  float64\n",
      " 27  total_acc                   887350 non-null  float64\n",
      " 28  initial_list_status         887379 non-null  object \n",
      " 29  out_prncp                   887379 non-null  float64\n",
      " 30  out_prncp_inv               887379 non-null  float64\n",
      " 31  total_pymnt                 887379 non-null  float64\n",
      " 32  total_pymnt_inv             887379 non-null  float64\n",
      " 33  total_rec_prncp             887379 non-null  float64\n",
      " 34  total_rec_int               887379 non-null  float64\n",
      " 35  total_rec_late_fee          887379 non-null  float64\n",
      " 36  recoveries                  887379 non-null  float64\n",
      " 37  collection_recovery_fee     887379 non-null  float64\n",
      " 38  last_pymnt_d                869720 non-null  object \n",
      " 39  final_d                     869720 non-null  object \n",
      " 40  last_pymnt_amnt             887379 non-null  float64\n",
      " 41  next_pymnt_d                634408 non-null  object \n",
      " 42  last_credit_pull_d          887326 non-null  object \n",
      " 43  collections_12_mths_ex_med  887234 non-null  float64\n",
      " 44  policy_code                 887379 non-null  int64  \n",
      " 45  application_type            887379 non-null  object \n",
      " 46  acc_now_delinq              887350 non-null  float64\n",
      " 47  year                        887379 non-null  int64  \n",
      " 48  loan_condition              887379 non-null  object \n",
      " 49  region                      887379 non-null  object \n",
      " 50  complete_date               887379 non-null  object \n",
      " 51  emp_length_int              842554 non-null  float64\n",
      " 52  income_category             887375 non-null  object \n",
      " 53  loan_condition_int          887379 non-null  int64  \n",
      " 54  interest_payments           887379 non-null  object \n",
      "dtypes: float64(26), int64(6), object(23)\n",
      "memory usage: 379.1+ MB\n"
     ]
    }
   ],
   "source": [
    "df.info()"
   ]
  },
  {
   "cell_type": "code",
   "execution_count": 5,
   "id": "8cf998e9",
   "metadata": {},
   "outputs": [
    {
     "data": {
      "text/plain": [
       "(887379, 55)"
      ]
     },
     "execution_count": 5,
     "metadata": {},
     "output_type": "execute_result"
    }
   ],
   "source": [
    "df.shape"
   ]
  },
  {
   "cell_type": "markdown",
   "id": "1a8686ff",
   "metadata": {},
   "source": [
    "The data contains 887k rows and 55 rows. The data set is huge. Hence, Data Exploration is required to find out the relevent columns/ features that could be identified to build a model to accurately predict the loan status."
   ]
  },
  {
   "cell_type": "markdown",
   "id": "fffb233b",
   "metadata": {},
   "source": [
    "DATA EXPLORATION"
   ]
  },
  {
   "cell_type": "code",
   "execution_count": 6,
   "id": "49426284",
   "metadata": {},
   "outputs": [
    {
     "data": {
      "text/plain": [
       "loan_amount                        0\n",
       "funded_amount                      0\n",
       "investor_funds                     0\n",
       "term                               0\n",
       "interest_rate                      0\n",
       "installment                        0\n",
       "grade                              0\n",
       "sub_grade                          0\n",
       "emp_length                     44825\n",
       "home_ownership                     0\n",
       "annual_income                      4\n",
       "verification_status                0\n",
       "issue_d                            0\n",
       "loan_status                        0\n",
       "pymnt_plan                         0\n",
       "purpose                            0\n",
       "addr_state                         0\n",
       "dti                                0\n",
       "delinq_2yrs                       29\n",
       "earliest_cr_line                  29\n",
       "inq_last_6mths                    29\n",
       "mths_since_last_delinq        454312\n",
       "mths_since_last_record        750326\n",
       "open_acc                          29\n",
       "pub_rec                           29\n",
       "revol_bal                          0\n",
       "revol_util                       502\n",
       "total_acc                         29\n",
       "initial_list_status                0\n",
       "out_prncp                          0\n",
       "out_prncp_inv                      0\n",
       "total_pymnt                        0\n",
       "total_pymnt_inv                    0\n",
       "total_rec_prncp                    0\n",
       "total_rec_int                      0\n",
       "total_rec_late_fee                 0\n",
       "recoveries                         0\n",
       "collection_recovery_fee            0\n",
       "last_pymnt_d                   17659\n",
       "final_d                        17659\n",
       "last_pymnt_amnt                    0\n",
       "next_pymnt_d                  252971\n",
       "last_credit_pull_d                53\n",
       "collections_12_mths_ex_med       145\n",
       "policy_code                        0\n",
       "application_type                   0\n",
       "acc_now_delinq                    29\n",
       "year                               0\n",
       "loan_condition                     0\n",
       "region                             0\n",
       "complete_date                      0\n",
       "emp_length_int                 44825\n",
       "income_category                    4\n",
       "loan_condition_int                 0\n",
       "interest_payments                  0\n",
       "dtype: int64"
      ]
     },
     "execution_count": 6,
     "metadata": {},
     "output_type": "execute_result"
    }
   ],
   "source": [
    "# Finding the count of null values\n",
    "\n",
    "df.isnull().sum()"
   ]
  },
  {
   "cell_type": "code",
   "execution_count": 7,
   "id": "386dca64",
   "metadata": {},
   "outputs": [],
   "source": [
    "df.drop('earliest_cr_line', axis=1, inplace=True)"
   ]
  },
  {
   "cell_type": "code",
   "execution_count": 8,
   "id": "b220d93e",
   "metadata": {},
   "outputs": [],
   "source": [
    "df.drop('mths_since_last_delinq', axis=1, inplace=True)"
   ]
  },
  {
   "cell_type": "code",
   "execution_count": 9,
   "id": "4b8f1e2c",
   "metadata": {},
   "outputs": [],
   "source": [
    "df.drop('mths_since_last_record', axis=1, inplace=True)"
   ]
  },
  {
   "cell_type": "code",
   "execution_count": 10,
   "id": "30daf596",
   "metadata": {},
   "outputs": [],
   "source": [
    "df.drop('last_pymnt_d', axis=1, inplace=True)"
   ]
  },
  {
   "cell_type": "code",
   "execution_count": 11,
   "id": "75c8c7c5",
   "metadata": {},
   "outputs": [
    {
     "data": {
      "text/plain": [
       "6.050594383268016"
      ]
     },
     "execution_count": 11,
     "metadata": {},
     "output_type": "execute_result"
    }
   ],
   "source": [
    "# Finding the mean of the value for emp_length_int\n",
    "\n",
    "df.emp_length_int.mean()"
   ]
  },
  {
   "cell_type": "code",
   "execution_count": 12,
   "id": "f7858f1c",
   "metadata": {},
   "outputs": [],
   "source": [
    "# Filling in missing values with the above calculated Mean for the column\n",
    "\n",
    "df['emp_length_int'].fillna(value='6.05', inplace=True)"
   ]
  },
  {
   "cell_type": "code",
   "execution_count": 13,
   "id": "65566b92",
   "metadata": {},
   "outputs": [
    {
     "data": {
      "text/plain": [
       "0.31444187750042263"
      ]
     },
     "execution_count": 13,
     "metadata": {},
     "output_type": "execute_result"
    }
   ],
   "source": [
    "df.delinq_2yrs.mean()"
   ]
  },
  {
   "cell_type": "code",
   "execution_count": 14,
   "id": "9583ff88",
   "metadata": {},
   "outputs": [],
   "source": [
    "# fill in missing values with a specified value\n",
    "df['delinq_2yrs'].fillna(value='0.314', inplace=True)"
   ]
  },
  {
   "cell_type": "code",
   "execution_count": 15,
   "id": "d29abd8c",
   "metadata": {},
   "outputs": [],
   "source": [
    "df.drop('emp_length', axis=1, inplace=True)"
   ]
  },
  {
   "cell_type": "code",
   "execution_count": 16,
   "id": "a0f07247",
   "metadata": {},
   "outputs": [],
   "source": [
    "df = df.dropna(subset=[\"income_category\"])"
   ]
  },
  {
   "cell_type": "code",
   "execution_count": 17,
   "id": "d21e8ab3",
   "metadata": {},
   "outputs": [
    {
     "data": {
      "text/plain": [
       "array(['Low', 'Medium', 'High'], dtype=object)"
      ]
     },
     "execution_count": 17,
     "metadata": {},
     "output_type": "execute_result"
    }
   ],
   "source": [
    "df.income_category.unique()"
   ]
  },
  {
   "cell_type": "code",
   "execution_count": 18,
   "id": "d65e66c3",
   "metadata": {},
   "outputs": [],
   "source": [
    "# create the 'income_cat' dummy variable using the 'map' method\n",
    "df['income_cat'] = df.income_category.map({'Low':1, 'Medium':2, 'High':3})"
   ]
  },
  {
   "cell_type": "code",
   "execution_count": 19,
   "id": "bb8e5d6e",
   "metadata": {},
   "outputs": [
    {
     "data": {
      "text/plain": [
       "array(['Low', 'High'], dtype=object)"
      ]
     },
     "execution_count": 19,
     "metadata": {},
     "output_type": "execute_result"
    }
   ],
   "source": [
    "df.interest_payments.unique()"
   ]
  },
  {
   "cell_type": "code",
   "execution_count": 20,
   "id": "068dd8a2",
   "metadata": {},
   "outputs": [],
   "source": [
    "# create the 'interest_payments' dummy variable using the 'map' method\n",
    "df['interest_payment_cat'] = df.interest_payments.map({'Low':1, 'High':2})"
   ]
  },
  {
   "cell_type": "code",
   "execution_count": 21,
   "id": "bd33dbeb",
   "metadata": {},
   "outputs": [],
   "source": [
    "# create the 'loan_condition' dummy variable using the 'map' method\n",
    "df['loan_condition_cat'] = df.loan_condition.map({'Good Loan':0, 'Bad Loan':1})"
   ]
  },
  {
   "cell_type": "code",
   "execution_count": 22,
   "id": "35f1d9eb",
   "metadata": {},
   "outputs": [],
   "source": [
    "# create the 'application_type' dummy variable using the 'map' method\n",
    "df['application_type_cat'] = df.application_type.map({'INDIVIDUAL':1, 'JOINT':2})\n"
   ]
  },
  {
   "cell_type": "code",
   "execution_count": 23,
   "id": "baa7a3ef",
   "metadata": {},
   "outputs": [
    {
     "data": {
      "text/plain": [
       "array(['Fully Paid', 'Charged Off', 'Current', 'Default',\n",
       "       'Late (31-120 days)', 'In Grace Period', 'Late (16-30 days)',\n",
       "       'Does not meet the credit policy. Status:Fully Paid',\n",
       "       'Does not meet the credit policy. Status:Charged Off', 'Issued'],\n",
       "      dtype=object)"
      ]
     },
     "execution_count": 23,
     "metadata": {},
     "output_type": "execute_result"
    }
   ],
   "source": [
    "df.loan_status.unique()"
   ]
  },
  {
   "cell_type": "code",
   "execution_count": 24,
   "id": "be60b7a5",
   "metadata": {},
   "outputs": [],
   "source": [
    "# create the 'verification_status' dummy variable using the 'map' method\n",
    "df['loan_status_cat'] = df.loan_status.map({'Fully Paid':1, \n",
    "                                            'Charged Off':2, \n",
    "                                            'Current':3,\n",
    "                                           'Default':4, \n",
    "                                            'Late (31-120 days)':5, \n",
    "                                            'In Grace Period':6,\n",
    "                                           'Late (16-30 days)':7, \n",
    "                                            'Does not meet the credit policy. Status:Fully Paid':8, \n",
    "                                            'Does not meet the credit policy. Status:Charged Off':9,\n",
    "                                           'Issued':10})"
   ]
  },
  {
   "cell_type": "code",
   "execution_count": 25,
   "id": "398f3852",
   "metadata": {},
   "outputs": [],
   "source": [
    "# create the 'verification_status' dummy variable using the 'map' method\n",
    "df['verification_status_cat'] = df.verification_status.map({'Verified':1, 'Source Verified':2, 'Not Verified':3})"
   ]
  },
  {
   "cell_type": "code",
   "execution_count": 26,
   "id": "2c2605fd",
   "metadata": {},
   "outputs": [
    {
     "data": {
      "text/plain": [
       "array(['RENT', 'OWN', 'MORTGAGE', 'OTHER', 'NONE', 'ANY'], dtype=object)"
      ]
     },
     "execution_count": 26,
     "metadata": {},
     "output_type": "execute_result"
    }
   ],
   "source": [
    "df.home_ownership.unique()"
   ]
  },
  {
   "cell_type": "code",
   "execution_count": 27,
   "id": "0b3cdfcb",
   "metadata": {},
   "outputs": [],
   "source": [
    "# create the 'verification_status' dummy variable using the 'map' method\n",
    "df['home_ownership_cat'] = df.home_ownership.map({'RENT':1, 'OWN':2, 'MORTGAGE':3, 'OTHER':4, 'NONE':5, 'ANY':6})"
   ]
  },
  {
   "cell_type": "code",
   "execution_count": 28,
   "id": "bf0da70e",
   "metadata": {},
   "outputs": [
    {
     "data": {
      "text/plain": [
       "array(['B', 'C', 'A', 'E', 'F', 'D', 'G'], dtype=object)"
      ]
     },
     "execution_count": 28,
     "metadata": {},
     "output_type": "execute_result"
    }
   ],
   "source": [
    "df.grade.unique()"
   ]
  },
  {
   "cell_type": "code",
   "execution_count": 29,
   "id": "6b0cdac5",
   "metadata": {},
   "outputs": [],
   "source": [
    "# create the 'grade' dummy variable using the 'map' method\n",
    "df['grade_cat'] = df.grade.map({'A':1, 'B':2, 'C':3, 'D':4, 'E':5, 'F':6, 'G':7})"
   ]
  },
  {
   "cell_type": "code",
   "execution_count": 30,
   "id": "c54d97cb",
   "metadata": {},
   "outputs": [
    {
     "data": {
      "text/plain": [
       "array([' 36 months', ' 60 months'], dtype=object)"
      ]
     },
     "execution_count": 30,
     "metadata": {},
     "output_type": "execute_result"
    }
   ],
   "source": [
    "df.term.unique()"
   ]
  },
  {
   "cell_type": "code",
   "execution_count": 31,
   "id": "c46f8551",
   "metadata": {},
   "outputs": [],
   "source": [
    "# create the 'term' dummy variable using the 'map' method\n",
    "df['term_cat'] = df.term.map({' 36 months':1, ' 60 months':2})"
   ]
  },
  {
   "cell_type": "code",
   "execution_count": 32,
   "id": "54f7f10e",
   "metadata": {},
   "outputs": [],
   "source": [
    "# create the 'purpose' dummy variable using the 'map' method\n",
    "df['purpose_cat'] = df.purpose.map({'credit_card':1, 'car':2, \n",
    "                                            'small_business':3, 'other':4,\n",
    "                                            'wedding':5, 'debt_consolidation':6,\n",
    "                                            'home_improvement':7, 'major_purchase':8,\n",
    "                                            'medical':9, 'moving':10,\n",
    "                                            'vacation':11, 'house':12,\n",
    "                                            'renewable_energy':13, 'educational':14})"
   ]
  },
  {
   "cell_type": "code",
   "execution_count": null,
   "id": "64b8e4ed",
   "metadata": {},
   "outputs": [],
   "source": []
  },
  {
   "cell_type": "code",
   "execution_count": 33,
   "id": "d6a3255b",
   "metadata": {},
   "outputs": [],
   "source": [
    "df['income_cat'] = df['income_cat'].astype(int)\n",
    "df['home_ownership_cat'] = df['home_ownership_cat'].astype(int)\n",
    "df['verification_status_cat'] = df['verification_status_cat'].astype(int)\n",
    "df['loan_status_cat'] = df['loan_status_cat'].astype(int)\n",
    "df['application_type_cat'] = df['application_type_cat'].astype(int)\n",
    "df['interest_payment_cat'] = df['interest_payment_cat'].astype(int)\n",
    "df['loan_condition_cat'] = df['loan_condition_cat'].astype(int)\n",
    "df['purpose_cat'] = df['purpose_cat'].astype(int)\n",
    "df['grade_cat'] = df['grade_cat'].astype(int)\n",
    "df['term_cat'] = df['term_cat'].astype(int)"
   ]
  },
  {
   "cell_type": "markdown",
   "id": "7b861dec",
   "metadata": {},
   "source": [
    "VISUALIZATIONS\n",
    "After creating dummay variables and appropriately converting the data type of the features, the graphs needs to be plotted to provide information and compare the data yearwise."
   ]
  },
  {
   "cell_type": "code",
   "execution_count": 34,
   "id": "9822836a",
   "metadata": {},
   "outputs": [],
   "source": [
    "# Create a dataframe to aggregate data based on year\n",
    "\n",
    "df_year=df.groupby('year').loan_amount.agg(['count', 'mean', 'min', 'max'])"
   ]
  },
  {
   "cell_type": "code",
   "execution_count": 35,
   "id": "1b765309",
   "metadata": {},
   "outputs": [
    {
     "data": {
      "text/html": [
       "<div>\n",
       "<style scoped>\n",
       "    .dataframe tbody tr th:only-of-type {\n",
       "        vertical-align: middle;\n",
       "    }\n",
       "\n",
       "    .dataframe tbody tr th {\n",
       "        vertical-align: top;\n",
       "    }\n",
       "\n",
       "    .dataframe thead th {\n",
       "        text-align: right;\n",
       "    }\n",
       "</style>\n",
       "<table border=\"1\" class=\"dataframe\">\n",
       "  <thead>\n",
       "    <tr style=\"text-align: right;\">\n",
       "      <th></th>\n",
       "      <th>count</th>\n",
       "      <th>mean</th>\n",
       "      <th>min</th>\n",
       "      <th>max</th>\n",
       "    </tr>\n",
       "    <tr>\n",
       "      <th>year</th>\n",
       "      <th></th>\n",
       "      <th></th>\n",
       "      <th></th>\n",
       "      <th></th>\n",
       "    </tr>\n",
       "  </thead>\n",
       "  <tbody>\n",
       "    <tr>\n",
       "      <th>2007</th>\n",
       "      <td>599</td>\n",
       "      <td>8267.570952</td>\n",
       "      <td>500</td>\n",
       "      <td>25000</td>\n",
       "    </tr>\n",
       "    <tr>\n",
       "      <th>2008</th>\n",
       "      <td>2393</td>\n",
       "      <td>8825.428333</td>\n",
       "      <td>500</td>\n",
       "      <td>25000</td>\n",
       "    </tr>\n",
       "    <tr>\n",
       "      <th>2009</th>\n",
       "      <td>5281</td>\n",
       "      <td>9833.033516</td>\n",
       "      <td>1000</td>\n",
       "      <td>25000</td>\n",
       "    </tr>\n",
       "    <tr>\n",
       "      <th>2010</th>\n",
       "      <td>12537</td>\n",
       "      <td>10528.240408</td>\n",
       "      <td>1000</td>\n",
       "      <td>25000</td>\n",
       "    </tr>\n",
       "    <tr>\n",
       "      <th>2011</th>\n",
       "      <td>21721</td>\n",
       "      <td>12047.503568</td>\n",
       "      <td>1000</td>\n",
       "      <td>35000</td>\n",
       "    </tr>\n",
       "    <tr>\n",
       "      <th>2012</th>\n",
       "      <td>53367</td>\n",
       "      <td>13461.709015</td>\n",
       "      <td>1000</td>\n",
       "      <td>35000</td>\n",
       "    </tr>\n",
       "    <tr>\n",
       "      <th>2013</th>\n",
       "      <td>134755</td>\n",
       "      <td>14708.094134</td>\n",
       "      <td>1000</td>\n",
       "      <td>35000</td>\n",
       "    </tr>\n",
       "    <tr>\n",
       "      <th>2014</th>\n",
       "      <td>235628</td>\n",
       "      <td>14870.177462</td>\n",
       "      <td>1000</td>\n",
       "      <td>35000</td>\n",
       "    </tr>\n",
       "    <tr>\n",
       "      <th>2015</th>\n",
       "      <td>421094</td>\n",
       "      <td>15240.255561</td>\n",
       "      <td>1000</td>\n",
       "      <td>35000</td>\n",
       "    </tr>\n",
       "  </tbody>\n",
       "</table>\n",
       "</div>"
      ],
      "text/plain": [
       "       count          mean   min    max\n",
       "year                                   \n",
       "2007     599   8267.570952   500  25000\n",
       "2008    2393   8825.428333   500  25000\n",
       "2009    5281   9833.033516  1000  25000\n",
       "2010   12537  10528.240408  1000  25000\n",
       "2011   21721  12047.503568  1000  35000\n",
       "2012   53367  13461.709015  1000  35000\n",
       "2013  134755  14708.094134  1000  35000\n",
       "2014  235628  14870.177462  1000  35000\n",
       "2015  421094  15240.255561  1000  35000"
      ]
     },
     "execution_count": 35,
     "metadata": {},
     "output_type": "execute_result"
    }
   ],
   "source": [
    "df1= pd.DataFrame(df_year)\n",
    "df1"
   ]
  },
  {
   "cell_type": "code",
   "execution_count": 36,
   "id": "a3c3b953",
   "metadata": {},
   "outputs": [
    {
     "data": {
      "image/png": "[encoded data removed]",
      "text/plain": [
       "<Figure size 640x480 with 1 Axes>"
      ]
     },
     "metadata": {},
     "output_type": "display_data"
    }
   ],
   "source": [
    "plotByYear = df1.plot(kind='bar', title='Loan statistics by year ')"
   ]
  },
  {
   "cell_type": "code",
   "execution_count": 37,
   "id": "63e6335d",
   "metadata": {},
   "outputs": [],
   "source": [
    "# Creating dataframe for Bad loans and Good Loans\n",
    "badloans_df = df.loc[df[\"loan_condition_cat\"] == 1]\n",
    "goodloans_df = df.loc[df[\"loan_condition_cat\"] == 0]"
   ]
  },
  {
   "cell_type": "code",
   "execution_count": 38,
   "id": "21eb443b",
   "metadata": {},
   "outputs": [
    {
     "data": {
      "text/html": [
       "<div>\n",
       "<style scoped>\n",
       "    .dataframe tbody tr th:only-of-type {\n",
       "        vertical-align: middle;\n",
       "    }\n",
       "\n",
       "    .dataframe tbody tr th {\n",
       "        vertical-align: top;\n",
       "    }\n",
       "\n",
       "    .dataframe thead th {\n",
       "        text-align: right;\n",
       "    }\n",
       "</style>\n",
       "<table border=\"1\" class=\"dataframe\">\n",
       "  <thead>\n",
       "    <tr style=\"text-align: right;\">\n",
       "      <th>loan_condition_cat</th>\n",
       "      <th>1</th>\n",
       "    </tr>\n",
       "    <tr>\n",
       "      <th>year</th>\n",
       "      <th></th>\n",
       "    </tr>\n",
       "  </thead>\n",
       "  <tbody>\n",
       "    <tr>\n",
       "      <th>2007</th>\n",
       "      <td>0.234321</td>\n",
       "    </tr>\n",
       "    <tr>\n",
       "      <th>2008</th>\n",
       "      <td>0.735589</td>\n",
       "    </tr>\n",
       "    <tr>\n",
       "      <th>2009</th>\n",
       "      <td>1.072239</td>\n",
       "    </tr>\n",
       "    <tr>\n",
       "      <th>2010</th>\n",
       "      <td>2.611636</td>\n",
       "    </tr>\n",
       "    <tr>\n",
       "      <th>2011</th>\n",
       "      <td>4.891071</td>\n",
       "    </tr>\n",
       "    <tr>\n",
       "      <th>2012</th>\n",
       "      <td>12.522802</td>\n",
       "    </tr>\n",
       "    <tr>\n",
       "      <th>2013</th>\n",
       "      <td>26.835635</td>\n",
       "    </tr>\n",
       "    <tr>\n",
       "      <th>2014</th>\n",
       "      <td>33.156357</td>\n",
       "    </tr>\n",
       "    <tr>\n",
       "      <th>2015</th>\n",
       "      <td>17.940352</td>\n",
       "    </tr>\n",
       "  </tbody>\n",
       "</table>\n",
       "</div>"
      ],
      "text/plain": [
       "loan_condition_cat          1\n",
       "year                         \n",
       "2007                 0.234321\n",
       "2008                 0.735589\n",
       "2009                 1.072239\n",
       "2010                 2.611636\n",
       "2011                 4.891071\n",
       "2012                12.522802\n",
       "2013                26.835635\n",
       "2014                33.156357\n",
       "2015                17.940352"
      ]
     },
     "execution_count": 38,
     "metadata": {},
     "output_type": "execute_result"
    }
   ],
   "source": [
    "# loan_status cross\n",
    "loan_status_by_year = pd.crosstab(badloans_df['year'], badloans_df['loan_condition_cat']).apply(lambda x: x/x.sum() * 100)\n",
    "loan_status_by_year"
   ]
  },
  {
   "cell_type": "code",
   "execution_count": 39,
   "id": "9fad3898",
   "metadata": {
    "scrolled": true
   },
   "outputs": [
    {
     "data": {
      "image/png": "[encoded data removed]",
      "text/plain": [
       "<Figure size 640x480 with 1 Axes>"
      ]
     },
     "metadata": {},
     "output_type": "display_data"
    }
   ],
   "source": [
    "badLoan = loan_status_by_year.plot(kind='bar', title='Bad Loan percent by Year')"
   ]
  },
  {
   "cell_type": "code",
   "execution_count": 40,
   "id": "9a33cd65",
   "metadata": {},
   "outputs": [
    {
     "data": {
      "text/plain": [
       "year\n",
       "2007    11.851803\n",
       "2008    12.061964\n",
       "2009    12.437247\n",
       "2010    11.985268\n",
       "2011    12.223746\n",
       "2012    13.637676\n",
       "2013    14.531745\n",
       "2014    13.771245\n",
       "2015    12.601731\n",
       "Name: interest_rate, dtype: float64"
      ]
     },
     "execution_count": 40,
     "metadata": {},
     "output_type": "execute_result"
    }
   ],
   "source": [
    "# Finding average interest rates by year\n",
    "\n",
    "avggInterestRate = df.groupby('year').interest_rate.mean()\n",
    "\n",
    "avggInterestRate"
   ]
  },
  {
   "cell_type": "code",
   "execution_count": 41,
   "id": "a9010ef9",
   "metadata": {},
   "outputs": [
    {
     "data": {
      "text/plain": [
       "<Axes: title={'center': 'Average interest rates by year charged to customers '}, xlabel='year'>"
      ]
     },
     "execution_count": 41,
     "metadata": {},
     "output_type": "execute_result"
    },
    {
     "data": {
      "image/png": "[encoded data removed]",
      "text/plain": [
       "<Figure size 640x480 with 1 Axes>"
      ]
     },
     "metadata": {},
     "output_type": "display_data"
    }
   ],
   "source": [
    "avggInterestRate.plot(kind='bar', x='year', y='interest rate', title='Average interest rates by year charged to customers ')"
   ]
  },
  {
   "cell_type": "markdown",
   "id": "41c7a262",
   "metadata": {},
   "source": [
    "It is observed that as average interest rates for loans started to increaase over the years, the number of Bad Loans also increased. This can be also supported by the claim that Debt-Income ratio of the customers increased."
   ]
  },
  {
   "cell_type": "code",
   "execution_count": 42,
   "id": "5861462a",
   "metadata": {},
   "outputs": [
    {
     "data": {
      "text/plain": [
       "year\n",
       "2007    10.769349\n",
       "2008    13.204605\n",
       "2009    12.466548\n",
       "2010    13.095154\n",
       "2011    13.846331\n",
       "2012    16.661354\n",
       "2013    17.216032\n",
       "2014    18.040782\n",
       "2015    19.196014\n",
       "Name: dti, dtype: float64"
      ]
     },
     "execution_count": 42,
     "metadata": {},
     "output_type": "execute_result"
    }
   ],
   "source": [
    "dtiRatio = df.groupby('year').dti.mean()\n",
    "dtiRatio"
   ]
  },
  {
   "cell_type": "code",
   "execution_count": 43,
   "id": "3c86cf4f",
   "metadata": {},
   "outputs": [
    {
     "data": {
      "text/plain": [
       "<Axes: title={'center': 'Average debt income ratio per year charged to customers '}, xlabel='year'>"
      ]
     },
     "execution_count": 43,
     "metadata": {},
     "output_type": "execute_result"
    },
    {
     "data": {
      "image/png": "[encoded data removed]",
      "text/plain": [
       "<Figure size 640x480 with 1 Axes>"
      ]
     },
     "metadata": {},
     "output_type": "display_data"
    }
   ],
   "source": [
    "dtiRatio.plot(kind='bar', x='year', y='debt income ratio ', title='Average debt income ratio per year charged to customers ')"
   ]
  },
  {
   "cell_type": "markdown",
   "id": "42bf2621",
   "metadata": {},
   "source": [
    "FEATURE SELECTION\n",
    "\n",
    "Feature selection, also known as variable selection, is the process of selecting a subset of relevant features (variables, predictors) to efficiently train a Machine Learning Model which would most accurately predict the loan status."
   ]
  },
  {
   "cell_type": "code",
   "execution_count": 44,
   "id": "ab6507a1",
   "metadata": {},
   "outputs": [],
   "source": [
    "# create a list of features\n",
    "feature_cols = ['emp_length_int', 'annual_income','loan_amount','interest_rate','dti','home_ownership_cat','income_cat','total_pymnt','purpose_cat','grade_cat',\n",
    "               'application_type_cat','term_cat','year']"
   ]
  },
  {
   "cell_type": "code",
   "execution_count": 45,
   "id": "9369477a",
   "metadata": {},
   "outputs": [],
   "source": [
    "X = df[feature_cols]\n",
    "y = df.loan_condition_cat"
   ]
  },
  {
   "cell_type": "code",
   "execution_count": 46,
   "id": "83284e02",
   "metadata": {},
   "outputs": [
    {
     "data": {
      "text/plain": [
       "<Axes: >"
      ]
     },
     "execution_count": 46,
     "metadata": {},
     "output_type": "execute_result"
    },
    {
     "data": {
      "image/png": "[encoded data removed]",
      "text/plain": [
       "<Figure size 640x480 with 2 Axes>"
      ]
     },
     "metadata": {},
     "output_type": "display_data"
    }
   ],
   "source": [
    "X_corr =X.corr()\n",
    "\n",
    "sns.heatmap(X_corr, cmap='coolwarm', annot_kws={\"size\":8},annot=True) "
   ]
  },
  {
   "cell_type": "code",
   "execution_count": 47,
   "id": "ad579980",
   "metadata": {},
   "outputs": [
    {
     "data": {
      "text/html": [
       "<style>#sk-container-id-1 {color: black;background-color: white;}#sk-container-id-1 pre{padding: 0;}#sk-container-id-1 div.sk-toggleable {background-color: white;}#sk-container-id-1 label.sk-toggleable__label {cursor: pointer;display: block;width: 100%;margin-bottom: 0;padding: 0.3em;box-sizing: border-box;text-align: center;}#sk-container-id-1 label.sk-toggleable__label-arrow:before {content: \"▸\";float: left;margin-right: 0.25em;color: #696969;}#sk-container-id-1 label.sk-toggleable__label-arrow:hover:before {color: black;}#sk-container-id-1 div.sk-estimator:hover label.sk-toggleable__label-arrow:before {color: black;}#sk-container-id-1 div.sk-toggleable__content {max-height: 0;max-width: 0;overflow: hidden;text-align: left;background-color: #f0f8ff;}#sk-container-id-1 div.sk-toggleable__content pre {margin: 0.2em;color: black;border-radius: 0.25em;background-color: #f0f8ff;}#sk-container-id-1 input.sk-toggleable__control:checked~div.sk-toggleable__content {max-height: 200px;max-width: 100%;overflow: auto;}#sk-container-id-1 input.sk-toggleable__control:checked~label.sk-toggleable__label-arrow:before {content: \"▾\";}#sk-container-id-1 div.sk-estimator input.sk-toggleable__control:checked~label.sk-toggleable__label {background-color: #d4ebff;}#sk-container-id-1 div.sk-label input.sk-toggleable__control:checked~label.sk-toggleable__label {background-color: #d4ebff;}#sk-container-id-1 input.sk-hidden--visually {border: 0;clip: rect(1px 1px 1px 1px);clip: rect(1px, 1px, 1px, 1px);height: 1px;margin: -1px;overflow: hidden;padding: 0;position: absolute;width: 1px;}#sk-container-id-1 div.sk-estimator {font-family: monospace;background-color: #f0f8ff;border: 1px dotted black;border-radius: 0.25em;box-sizing: border-box;margin-bottom: 0.5em;}#sk-container-id-1 div.sk-estimator:hover {background-color: #d4ebff;}#sk-container-id-1 div.sk-parallel-item::after {content: \"\";width: 100%;border-bottom: 1px solid gray;flex-grow: 1;}#sk-container-id-1 div.sk-label:hover label.sk-toggleable__label {background-color: #d4ebff;}#sk-container-id-1 div.sk-serial::before {content: \"\";position: absolute;border-left: 1px solid gray;box-sizing: border-box;top: 0;bottom: 0;left: 50%;z-index: 0;}#sk-container-id-1 div.sk-serial {display: flex;flex-direction: column;align-items: center;background-color: white;padding-right: 0.2em;padding-left: 0.2em;position: relative;}#sk-container-id-1 div.sk-item {position: relative;z-index: 1;}#sk-container-id-1 div.sk-parallel {display: flex;align-items: stretch;justify-content: center;background-color: white;position: relative;}#sk-container-id-1 div.sk-item::before, #sk-container-id-1 div.sk-parallel-item::before {content: \"\";position: absolute;border-left: 1px solid gray;box-sizing: border-box;top: 0;bottom: 0;left: 50%;z-index: -1;}#sk-container-id-1 div.sk-parallel-item {display: flex;flex-direction: column;z-index: 1;position: relative;background-color: white;}#sk-container-id-1 div.sk-parallel-item:first-child::after {align-self: flex-end;width: 50%;}#sk-container-id-1 div.sk-parallel-item:last-child::after {align-self: flex-start;width: 50%;}#sk-container-id-1 div.sk-parallel-item:only-child::after {width: 0;}#sk-container-id-1 div.sk-dashed-wrapped {border: 1px dashed gray;margin: 0 0.4em 0.5em 0.4em;box-sizing: border-box;padding-bottom: 0.4em;background-color: white;}#sk-container-id-1 div.sk-label label {font-family: monospace;font-weight: bold;display: inline-block;line-height: 1.2em;}#sk-container-id-1 div.sk-label-container {text-align: center;}#sk-container-id-1 div.sk-container {/* jupyter's `normalize.less` sets `[hidden] { display: none; }` but bootstrap.min.css set `[hidden] { display: none !important; }` so we also need the `!important` here to be able to override the default hidden behavior on the sphinx rendered scikit-learn.org. See: https://github.com/scikit-learn/scikit-learn/issues/21755 */display: inline-block !important;position: relative;}#sk-container-id-1 div.sk-text-repr-fallback {display: none;}</style><div id=\"sk-container-id-1\" class=\"sk-top-container\"><div class=\"sk-text-repr-fallback\"><pre>RandomForestClassifier(max_features=3, oob_score=True, random_state=1)</pre><b>In a Jupyter environment, please rerun this cell to show the HTML representation or trust the notebook. <br />On GitHub, the HTML representation is unable to render, please try loading this page with nbviewer.org.</b></div><div class=\"sk-container\" hidden><div class=\"sk-item\"><div class=\"sk-estimator sk-toggleable\"><input class=\"sk-toggleable__control sk-hidden--visually\" id=\"sk-estimator-id-1\" type=\"checkbox\" checked><label for=\"sk-estimator-id-1\" class=\"sk-toggleable__label sk-toggleable__label-arrow\">RandomForestClassifier</label><div class=\"sk-toggleable__content\"><pre>RandomForestClassifier(max_features=3, oob_score=True, random_state=1)</pre></div></div></div></div></div>"
      ],
      "text/plain": [
       "RandomForestClassifier(max_features=3, oob_score=True, random_state=1)"
      ]
     },
     "execution_count": 47,
     "metadata": {},
     "output_type": "execute_result"
    }
   ],
   "source": [
    "# import class, instantiate estimator, fit with all data\n",
    "\n",
    "rfclf = RandomForestClassifier(n_estimators=100, max_features=3, oob_score=True, random_state=1)\n",
    "rfclf.fit(X,y)"
   ]
  },
  {
   "cell_type": "code",
   "execution_count": 48,
   "id": "e23cc711",
   "metadata": {},
   "outputs": [
    {
     "data": {
      "image/png": "[encoded data removed]",
      "text/plain": [
       "<Figure size 1600x600 with 1 Axes>"
      ]
     },
     "metadata": {},
     "output_type": "display_data"
    }
   ],
   "source": [
    "feature_importance = rfclf.feature_importances_\n",
    "features = feature_cols\n",
    "plt.figure(figsize=(16, 6))\n",
    "\n",
    "\n",
    "plt.bar(range(len(feature_importance)), feature_importance, align='center')\n",
    "plt.xticks(range(len(feature_importance)), features, rotation='vertical')\n",
    "plt.title('Feature importance')\n",
    "plt.ylabel('Importance')\n",
    "plt.xlabel('Features')\n",
    "plt.show()"
   ]
  },
  {
   "cell_type": "markdown",
   "id": "21cccc6f",
   "metadata": {},
   "source": [
    "From the above graph, we find that some features largely impact the performance , whereas other features has less influence. The features- emp_length_int, annual_income, loan_amount, interest_rate, dti,total_payment, year have considerable influence over the other features.\n",
    "Therefore, we could at this point reduce the number of features by taking a subset of the most important features."
   ]
  },
  {
   "cell_type": "markdown",
   "id": "2c02cbf5",
   "metadata": {},
   "source": [
    "Finding the RMSE for the features selected"
   ]
  },
  {
   "cell_type": "code",
   "execution_count": 49,
   "id": "9a086403",
   "metadata": {},
   "outputs": [],
   "source": [
    "# create a updated list of features\n",
    "feature_col = ['emp_length_int', 'annual_income','loan_amount','interest_rate','total_pymnt','dti','year']"
   ]
  },
  {
   "cell_type": "code",
   "execution_count": 50,
   "id": "c9b4a186",
   "metadata": {},
   "outputs": [],
   "source": [
    "from sklearn.linear_model import LinearRegression\n",
    "from sklearn import metrics\n",
    "\n",
    "# define a function that accepts a list of features and returns testing RMSE\n",
    "def train_test_rmse(feature_cols):\n",
    "    X = df[feature_cols]\n",
    "    y = df.loan_condition_cat\n",
    "    X_train, X_test, y_train, y_test = train_test_split(X, y, random_state=123)\n",
    "    linreg = LinearRegression()\n",
    "    linreg.fit(X_train, y_train)\n",
    "    y_pred = linreg.predict(X_test)\n",
    "    return np.sqrt(metrics.mean_squared_error(y_test, y_pred))"
   ]
  },
  {
   "cell_type": "code",
   "execution_count": 51,
   "id": "87a892ff",
   "metadata": {},
   "outputs": [
    {
     "name": "stdout",
     "output_type": "stream",
     "text": [
      "0.2527466783323038\n"
     ]
    }
   ],
   "source": [
    "print (train_test_rmse(['emp_length_int', 'annual_income','loan_amount','interest_rate','total_pymnt','dti','year']))"
   ]
  },
  {
   "cell_type": "code",
   "execution_count": 52,
   "id": "3bcb6d8d",
   "metadata": {},
   "outputs": [
    {
     "name": "stdout",
     "output_type": "stream",
     "text": [
      "0.25171208104174\n"
     ]
    }
   ],
   "source": [
    "print (train_test_rmse(['emp_length_int', 'annual_income','loan_amount','interest_rate','dti','home_ownership_cat','income_cat','total_pymnt','purpose_cat','grade_cat',\n",
    "               'application_type_cat','term_cat','year']))"
   ]
  },
  {
   "cell_type": "markdown",
   "id": "0b8dba11",
   "metadata": {},
   "source": [
    "Seems like there is not much diffrence in RMSE between selecting the intiail features (feature_cols) and subset of features (feature_col)."
   ]
  },
  {
   "cell_type": "code",
   "execution_count": 53,
   "id": "6106c336",
   "metadata": {},
   "outputs": [],
   "source": [
    "X = df[feature_col]\n",
    "y = df.loan_condition_cat"
   ]
  },
  {
   "cell_type": "code",
   "execution_count": 54,
   "id": "3689fda2",
   "metadata": {},
   "outputs": [],
   "source": [
    "# spilt X and y into training and testing sets\n",
    "\n",
    "X_train, X_test, y_train, y_test = train_test_split(X, y, random_state=0)"
   ]
  },
  {
   "cell_type": "markdown",
   "id": "5d969a89",
   "metadata": {},
   "source": [
    "LOGISTIC REGRESSION"
   ]
  },
  {
   "cell_type": "code",
   "execution_count": 55,
   "id": "a40e420a",
   "metadata": {},
   "outputs": [
    {
     "data": {
      "text/html": [
       "<style>#sk-container-id-2 {color: black;background-color: white;}#sk-container-id-2 pre{padding: 0;}#sk-container-id-2 div.sk-toggleable {background-color: white;}#sk-container-id-2 label.sk-toggleable__label {cursor: pointer;display: block;width: 100%;margin-bottom: 0;padding: 0.3em;box-sizing: border-box;text-align: center;}#sk-container-id-2 label.sk-toggleable__label-arrow:before {content: \"▸\";float: left;margin-right: 0.25em;color: #696969;}#sk-container-id-2 label.sk-toggleable__label-arrow:hover:before {color: black;}#sk-container-id-2 div.sk-estimator:hover label.sk-toggleable__label-arrow:before {color: black;}#sk-container-id-2 div.sk-toggleable__content {max-height: 0;max-width: 0;overflow: hidden;text-align: left;background-color: #f0f8ff;}#sk-container-id-2 div.sk-toggleable__content pre {margin: 0.2em;color: black;border-radius: 0.25em;background-color: #f0f8ff;}#sk-container-id-2 input.sk-toggleable__control:checked~div.sk-toggleable__content {max-height: 200px;max-width: 100%;overflow: auto;}#sk-container-id-2 input.sk-toggleable__control:checked~label.sk-toggleable__label-arrow:before {content: \"▾\";}#sk-container-id-2 div.sk-estimator input.sk-toggleable__control:checked~label.sk-toggleable__label {background-color: #d4ebff;}#sk-container-id-2 div.sk-label input.sk-toggleable__control:checked~label.sk-toggleable__label {background-color: #d4ebff;}#sk-container-id-2 input.sk-hidden--visually {border: 0;clip: rect(1px 1px 1px 1px);clip: rect(1px, 1px, 1px, 1px);height: 1px;margin: -1px;overflow: hidden;padding: 0;position: absolute;width: 1px;}#sk-container-id-2 div.sk-estimator {font-family: monospace;background-color: #f0f8ff;border: 1px dotted black;border-radius: 0.25em;box-sizing: border-box;margin-bottom: 0.5em;}#sk-container-id-2 div.sk-estimator:hover {background-color: #d4ebff;}#sk-container-id-2 div.sk-parallel-item::after {content: \"\";width: 100%;border-bottom: 1px solid gray;flex-grow: 1;}#sk-container-id-2 div.sk-label:hover label.sk-toggleable__label {background-color: #d4ebff;}#sk-container-id-2 div.sk-serial::before {content: \"\";position: absolute;border-left: 1px solid gray;box-sizing: border-box;top: 0;bottom: 0;left: 50%;z-index: 0;}#sk-container-id-2 div.sk-serial {display: flex;flex-direction: column;align-items: center;background-color: white;padding-right: 0.2em;padding-left: 0.2em;position: relative;}#sk-container-id-2 div.sk-item {position: relative;z-index: 1;}#sk-container-id-2 div.sk-parallel {display: flex;align-items: stretch;justify-content: center;background-color: white;position: relative;}#sk-container-id-2 div.sk-item::before, #sk-container-id-2 div.sk-parallel-item::before {content: \"\";position: absolute;border-left: 1px solid gray;box-sizing: border-box;top: 0;bottom: 0;left: 50%;z-index: -1;}#sk-container-id-2 div.sk-parallel-item {display: flex;flex-direction: column;z-index: 1;position: relative;background-color: white;}#sk-container-id-2 div.sk-parallel-item:first-child::after {align-self: flex-end;width: 50%;}#sk-container-id-2 div.sk-parallel-item:last-child::after {align-self: flex-start;width: 50%;}#sk-container-id-2 div.sk-parallel-item:only-child::after {width: 0;}#sk-container-id-2 div.sk-dashed-wrapped {border: 1px dashed gray;margin: 0 0.4em 0.5em 0.4em;box-sizing: border-box;padding-bottom: 0.4em;background-color: white;}#sk-container-id-2 div.sk-label label {font-family: monospace;font-weight: bold;display: inline-block;line-height: 1.2em;}#sk-container-id-2 div.sk-label-container {text-align: center;}#sk-container-id-2 div.sk-container {/* jupyter's `normalize.less` sets `[hidden] { display: none; }` but bootstrap.min.css set `[hidden] { display: none !important; }` so we also need the `!important` here to be able to override the default hidden behavior on the sphinx rendered scikit-learn.org. See: https://github.com/scikit-learn/scikit-learn/issues/21755 */display: inline-block !important;position: relative;}#sk-container-id-2 div.sk-text-repr-fallback {display: none;}</style><div id=\"sk-container-id-2\" class=\"sk-top-container\"><div class=\"sk-text-repr-fallback\"><pre>LogisticRegression()</pre><b>In a Jupyter environment, please rerun this cell to show the HTML representation or trust the notebook. <br />On GitHub, the HTML representation is unable to render, please try loading this page with nbviewer.org.</b></div><div class=\"sk-container\" hidden><div class=\"sk-item\"><div class=\"sk-estimator sk-toggleable\"><input class=\"sk-toggleable__control sk-hidden--visually\" id=\"sk-estimator-id-2\" type=\"checkbox\" checked><label for=\"sk-estimator-id-2\" class=\"sk-toggleable__label sk-toggleable__label-arrow\">LogisticRegression</label><div class=\"sk-toggleable__content\"><pre>LogisticRegression()</pre></div></div></div></div></div>"
      ],
      "text/plain": [
       "LogisticRegression()"
      ]
     },
     "execution_count": 55,
     "metadata": {},
     "output_type": "execute_result"
    }
   ],
   "source": [
    "# train a logistic regression model on the training set\n",
    "from sklearn.linear_model import LogisticRegression\n",
    "Logreg = LogisticRegression()\n",
    "Logreg.fit(X_train, y_train)"
   ]
  },
  {
   "cell_type": "code",
   "execution_count": 56,
   "id": "9cc79717",
   "metadata": {},
   "outputs": [],
   "source": [
    "# make class prediction for the testing set\n",
    "y_pred_class = Logreg.predict(X_test)"
   ]
  },
  {
   "cell_type": "code",
   "execution_count": 57,
   "id": "958ec298",
   "metadata": {},
   "outputs": [
    {
     "name": "stdout",
     "output_type": "stream",
     "text": [
      "92.37842808459999\n"
     ]
    }
   ],
   "source": [
    "# calculate Accuracy\n",
    "\n",
    "print((metrics.accuracy_score(y_test, y_pred_class))*100)"
   ]
  },
  {
   "cell_type": "markdown",
   "id": "cb106f50",
   "metadata": {},
   "source": [
    "KNN NEIGHBORS"
   ]
  },
  {
   "cell_type": "code",
   "execution_count": 58,
   "id": "a96eec38",
   "metadata": {},
   "outputs": [
    {
     "name": "stdout",
     "output_type": "stream",
     "text": [
      "91.78747227781685\n"
     ]
    }
   ],
   "source": [
    "from sklearn.neighbors import KNeighborsClassifier\n",
    "\n",
    "# use train/test split with different random_state values\n",
    "X_train, X_test, y_train, y_test = train_test_split(X, y, random_state=4)\n",
    "\n",
    "# check classification accuracy of KNN with K=5\n",
    "knn = KNeighborsClassifier(n_neighbors=5)\n",
    "knn.fit(X_train, y_train)\n",
    "y_pred = knn.predict(X_test)\n",
    "print ((metrics.accuracy_score(y_test, y_pred))*100)"
   ]
  },
  {
   "cell_type": "code",
   "execution_count": 59,
   "id": "afad2e32",
   "metadata": {},
   "outputs": [
    {
     "name": "stdout",
     "output_type": "stream",
     "text": [
      "              precision    recall  f1-score   support\n",
      "\n",
      "           0       0.93      0.99      0.96    205043\n",
      "           1       0.19      0.03      0.04     16801\n",
      "\n",
      "    accuracy                           0.92    221844\n",
      "   macro avg       0.56      0.51      0.50    221844\n",
      "weighted avg       0.87      0.92      0.89    221844\n",
      "\n"
     ]
    }
   ],
   "source": [
    "print(classification_report(y_test, y_pred))"
   ]
  },
  {
   "cell_type": "code",
   "execution_count": 60,
   "id": "77b552bc",
   "metadata": {},
   "outputs": [
    {
     "name": "stdout",
     "output_type": "stream",
     "text": [
      "0.9177743307595894\n"
     ]
    }
   ],
   "source": [
    "from sklearn.model_selection import cross_val_score\n",
    "\n",
    "# 10-fold cross-validation with K=20 for KNN (the n_neighbors parameter)\n",
    "\n",
    "knn = KNeighborsClassifier(n_neighbors=20)\n",
    "scores = cross_val_score(knn, X, y, cv=10, scoring='accuracy')\n",
    "print (scores.mean())"
   ]
  },
  {
   "cell_type": "markdown",
   "id": "ca273a56",
   "metadata": {},
   "source": [
    "RANDOM FOREST"
   ]
  },
  {
   "cell_type": "code",
   "execution_count": 61,
   "id": "f5f53b64",
   "metadata": {},
   "outputs": [],
   "source": [
    "X_train, X_test, y_train, y_test = train_test_split(X, y, random_state=42)"
   ]
  },
  {
   "cell_type": "code",
   "execution_count": null,
   "id": "271ac0d1",
   "metadata": {},
   "outputs": [],
   "source": [
    "from sklearn.ensemble import RandomForestClassifier\n",
    "rfclf = RandomForestClassifier(n_estimators=100, max_features=3, oob_score=True, random_state=1)\n",
    "rfclf.fit(X_train, y_train)"
   ]
  },
  {
   "cell_type": "code",
   "execution_count": null,
   "id": "116cd5ea",
   "metadata": {},
   "outputs": [],
   "source": [
    "print((rfclf.oob_score_)*100,'Percent')"
   ]
  },
  {
   "cell_type": "code",
   "execution_count": null,
   "id": "6bbd0583",
   "metadata": {},
   "outputs": [],
   "source": [
    "\n",
    "#confusion_mat = confusion_matrix(cancer_y_test, cancer_preds, labels=[1, 0])"
   ]
  },
  {
   "cell_type": "code",
   "execution_count": null,
   "id": "45306f94",
   "metadata": {},
   "outputs": [],
   "source": [
    "from sklearn.metrics import confusion_matrix\n",
    "y_pred=rfclf.predict(X_test)"
   ]
  },
  {
   "cell_type": "code",
   "execution_count": null,
   "id": "536db59d",
   "metadata": {},
   "outputs": [],
   "source": [
    "confusion_mat = confusion_matrix(y_test, y_pred)"
   ]
  },
  {
   "cell_type": "code",
   "execution_count": null,
   "id": "97f574a5",
   "metadata": {},
   "outputs": [],
   "source": [
    "# Matrix for Random Forest Classifier\n",
    "print(classification_report(y_test, y_pred))"
   ]
  },
  {
   "cell_type": "markdown",
   "id": "80594cc1",
   "metadata": {},
   "source": [
    "ACCURACY COMPARISION AMONG THE MODELS BASED ON SCORES AND SELECTING THE BEST MODEL"
   ]
  },
  {
   "cell_type": "code",
   "execution_count": null,
   "id": "b53760be",
   "metadata": {},
   "outputs": [],
   "source": [
    "df2 = pd.DataFrame(np.array([['LOGISTIC REGRESSION',92.38 ],['KNN NEIGHBORS', 91.78],['RANDOM FOREST',95.84]]),\n",
    "                   columns=['Model','% Accuracy Measure'])\n"
   ]
  },
  {
   "cell_type": "code",
   "execution_count": null,
   "id": "877cbcbe",
   "metadata": {},
   "outputs": [],
   "source": [
    "df2"
   ]
  }
 ],
 "metadata": {
  "kernelspec": {
   "display_name": "Python 3 (ipykernel)",
   "language": "python",
   "name": "python3"
  },
  "language_info": {
   "codemirror_mode": {
    "name": "ipython",
    "version": 3
   },
   "file_extension": ".py",
   "mimetype": "text/x-python",
   "name": "python",
   "nbconvert_exporter": "python",
   "pygments_lexer": "ipython3",
   "version": "3.11.3"
  }
 },
 "nbformat": 4,
 "nbformat_minor": 5
}
